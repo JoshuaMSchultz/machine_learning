{
 "cells": [
  {
   "cell_type": "markdown",
   "metadata": {},
   "source": [
    "Logistic Functions are bound by 0 and 1, making them great for predicting probabilities rather than values."
   ]
  },
  {
   "cell_type": "markdown",
   "metadata": {},
   "source": [
    "One area they are used a lot is in deep learning models. Let's say you are predicting if a picture is a 1, 2, 3, ... 0. You can run a model for each number to give you probabilities of the handwriting being each number, and then choose the highest one. This is what softmax (normalizing the different individual probabilities into a total probability - that is, all probabilities of each ouptut equal one) and its cost function, cross-entropy are for."
   ]
  },
  {
   "cell_type": "markdown",
   "metadata": {},
   "source": [
    "A logistic model estimates a $\\theta$ for each feature just like a linear model, only it outputs the lostistic of the result, not the direct result.\n",
    "\n",
    "*Logistic Representation*\n",
    "$$ \\hat{p}= \\sigma(t) $$\n",
    "The estimated probability is the logistic function of the linear model\n",
    "\n",
    "*Logistic of Linear Model*\n",
    "$$ \\sigma(\\mathbf{x}^\\intercal \\boldsymbol{\\theta}) $$\n",
    "\n",
    "*Logistic Function*\n",
    "$$ \\sigma(t) = \\frac{1}{1 + exp(-t)} $$"
   ]
  },
  {
   "cell_type": "markdown",
   "metadata": {},
   "source": [
    "The most simplistic interpretation is if it is greater than 0.5, we predict true, and if less, we predict false (or 0 probability).\n",
    "\n",
    "$$ \n",
    "\\hat{y}=\n",
    "\\begin{cases}\n",
    "    0 \\mbox{ if } \\hat{p}<0.5 \\\\\n",
    "    1 \\mbox{ if } \\hat{p}\\geq0.5\n",
    "\\end{cases}\n",
    "$$"
   ]
  },
  {
   "cell_type": "code",
   "execution_count": null,
   "metadata": {},
   "outputs": [],
   "source": []
  }
 ],
 "metadata": {
  "kernelspec": {
   "display_name": "Python 3",
   "language": "python",
   "name": "python3"
  },
  "language_info": {
   "codemirror_mode": {
    "name": "ipython",
    "version": 3
   },
   "file_extension": ".py",
   "mimetype": "text/x-python",
   "name": "python",
   "nbconvert_exporter": "python",
   "pygments_lexer": "ipython3",
   "version": "3.6.10"
  }
 },
 "nbformat": 4,
 "nbformat_minor": 4
}
